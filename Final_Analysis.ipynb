{
 "cells": [
  {
   "cell_type": "code",
   "execution_count": 1,
   "id": "09b345a1-4efc-4560-83b0-d4cd9d44976a",
   "metadata": {},
   "outputs": [],
   "source": [
    "# pip install plotly --upgrade"
   ]
  },
  {
   "cell_type": "code",
   "execution_count": 1,
   "id": "78897061-0f17-4a1b-bc5a-c21e3ebecba4",
   "metadata": {},
   "outputs": [
    {
     "data": {
      "application/vnd.jupyter.widget-view+json": {
       "model_id": "c4fc00410f9340c8954ed83c0c6b01b6",
       "version_major": 2,
       "version_minor": 0
      },
      "text/plain": [
       "interactive(children=(Dropdown(description='Environment Mean', options=('mean_ghgs', 'mean_land', 'mean_watsca…"
      ]
     },
     "metadata": {},
     "output_type": "display_data"
    },
    {
     "data": {
      "text/plain": [
       "<function __main__.surface_plot(chosen_mean, chosen_sex)>"
      ]
     },
     "execution_count": 1,
     "metadata": {},
     "output_type": "execute_result"
    }
   ],
   "source": [
    "import pandas as pd\n",
    "import plotly.graph_objects as go\n",
    "from ipywidgets import interact, Dropdown\n",
    "\n",
    "\n",
    "df = pd.read_csv('Results_21Mar2022.csv')\n",
    "Drop = ['sd_ghgs', 'sd_land', 'sd_watscar', 'sd_eut', 'sd_ghgs_ch4', 'sd_ghgs_n2o', 'sd_bio', 'sd_watuse', 'sd_acid', 'n_participants', 'grouping', 'mc_run_id']\n",
    "df.drop(Drop, axis=1, inplace=True)\n",
    "\n",
    "def surface_plot(chosen_mean, chosen_sex):\n",
    "    fig = go.Figure()\n",
    "    \n",
    "    if chosen_sex == 'All':\n",
    "        table = df.pivot_table(index='age_group', columns='diet_group', values=chosen_mean, aggfunc='mean')\n",
    "        table.columns = table.columns.to_series().replace({'meat50': 'meat < 50', 'meat': 'meat 50 - 99', 'meat100': 'meat 100+'})\n",
    "        fig.add_trace(go.Surface(z=table.values, x=table.columns, y=table.index))\n",
    "    else:\n",
    "        filtered_data = df[df['sex'] == chosen_sex]\n",
    "        table = filtered_data.pivot_table(index='age_group', columns='diet_group', values=chosen_mean)\n",
    "        table.columns = table.columns.to_series().replace({'meat50': 'meat<50', 'meat': 'meat 50 - 99', 'meat100': 'meat 100+'})\n",
    "        fig.add_trace(go.Surface(z=table.values, x=table.columns, y=table.index, colorscale='Plasma'))\n",
    "\n",
    "    fig.update_layout(title='Surface Plot for Age and Diet Groups',\n",
    "                      scene=dict(\n",
    "                          xaxis_title='Diet Group',\n",
    "                          yaxis_title='Age Group',\n",
    "                          zaxis_title=chosen_mean),\n",
    "                      autosize=False,\n",
    "                      width=800,\n",
    "                      height=800)\n",
    "\n",
    "    fig.show()\n",
    "\n",
    "# Dropdown options\n",
    "sexes = ['All'] + list(df['sex'].unique())\n",
    "mean_dropdown_list= Dropdown(options=[col for col in df.columns if col not in ['age_group', 'diet_group', 'sex']], description='Environment Mean')\n",
    "sex_dropdown_list = Dropdown(options=sexes, description='Sex')\n",
    "\n",
    "interact(surface_plot, chosen_mean=mean_dropdown_list, chosen_sex=sex_dropdown_list)\n"
   ]
  }
 ],
 "metadata": {
  "kernelspec": {
   "display_name": "Python 3 (ipykernel)",
   "language": "python",
   "name": "python3"
  },
  "language_info": {
   "codemirror_mode": {
    "name": "ipython",
    "version": 3
   },
   "file_extension": ".py",
   "mimetype": "text/x-python",
   "name": "python",
   "nbconvert_exporter": "python",
   "pygments_lexer": "ipython3",
   "version": "3.11.8"
  }
 },
 "nbformat": 4,
 "nbformat_minor": 5
}
